{
  "cells": [
    {
      "cell_type": "markdown",
      "metadata": {
        "id": "view-in-github",
        "colab_type": "text"
      },
      "source": [
        "<a href=\"https://colab.research.google.com/github/MelanthaWang246/A2SL-CN/blob/main/Lab_1_Probability_and_Introduction_to_Jupyter_Notebooks.ipynb\" target=\"_parent\"><img src=\"https://colab.research.google.com/assets/colab-badge.svg\" alt=\"Open In Colab\"/></a>"
      ]
    },
    {
      "cell_type": "markdown",
      "metadata": {
        "id": "-bJiMACdHffz"
      },
      "source": [
        "# Probability and an Introduction to Jupyter, Python and Pandas\n",
        "\n",
        "Welcome to the Foundations of Machine Learning course. In this course we will introduce the basic concepts of machine learning. In particular we will look at tools and techniques that describe how to model a dataset with the purpose of prediction. An integrated part of that is how we approach data with the computer. We are choosing to do that with the tool you see in front of you: the Jupyter Notebook.\n",
        "\n",
        "Classical software engineering demands a large amount of design and testing. In data analysis, testing remains very important, but the design is often evolving. The design evolves through a process known as *exploratory data analysis*. You will learn some of the techniques of exploratory data analysis in this course.\n",
        "\n",
        "In this Notebook, we will use a dataset to compute basic probability quantities. This will allow you to see how those concepts we review in the Lecture can actually be translated to Python code so that you can automate computation of basic probabilities. This will later on be useful to build basic probabilistic prediction models."
      ]
    },
    {
      "cell_type": "markdown",
      "metadata": {
        "id": "IPa4_7b2Hff3"
      },
      "source": [
        "### Linear Algebra, Probability and Differential Calculus\n",
        "\n",
        "In this module, we will be making use of linear algebra (matrix operations including inverse, inner products, determinant etc), probability (sum rule of probability, product rule of probability), and the calculus of differentiation (and integration!). Depending on your background, a new concept for you will be multivariate differentiation and integration. This combines linear algebra and differential calculus. These techniques are vital in understanding probability distributions over high dimensional distributions.\n",
        "\n",
        "### Choice of Language\n",
        "\n",
        "In this module, we will be using Python for our programming language. A prerequisite of attending this course is that you have learnt at least one programming language in the past. It is not our objective to teach you python. At Level 4 and Masters we expect our students to be able pick up a language as they go. If you have not experienced python before it may be worth your while spending some time understanding the language. There are resources available for you to do this [here](https://docs.python.org/3/tutorial/index.html) that are based on the standard console. An introduction to the Jupyter notebook (formerly known as the IPython notebook) is available [here](https://ipython.readthedocs.io/en/stable/)."
      ]
    },
    {
      "cell_type": "markdown",
      "metadata": {
        "id": "7yE501l2Hff3"
      },
      "source": [
        "### Question 1\n",
        "\n",
        "Who invented python and why? What was the language designed to do? What is the origin of the name \"python\"? Is the language a compiled language? Is it an object orientated language?"
      ]
    },
    {
      "cell_type": "markdown",
      "metadata": {
        "id": "3rt6hXhgHff4"
      },
      "source": [
        "#### Question 1 Answer\n",
        "Guido van Rossum.\n",
        "\n",
        "The purpose is to emphasis on code readability, and its syntax allows programmers to express concepts in fewer lines of code.\n",
        "\n",
        "Python is designed to build websites and software, automate tasks, and conduct data analysis.\n",
        "\n",
        "Monty Python's Flying Circus.\n",
        "\n",
        "No, it's a integrated language.\n",
        "\n",
        "Yes.\n",
        "\n"
      ]
    },
    {
      "cell_type": "markdown",
      "metadata": {
        "id": "IHcGxFSRHff4"
      },
      "source": [
        "## Choice of Environment\n",
        "\n",
        "We are working in the Jupyter notebook. It provides an environment for interacting with data in a natural way which is reproducible. We will be learning how to make use of the notebook throughout the course. The notebook allows us to combine code with descriptions, interactive visualizations, plots etc. In fact it allows us to do many of the things we need for data science. Notebooks can also be easily shared through the internet for ease of communication of ideas. The box this text is written in is a *markdown* box. Below we have a *code* box."
      ]
    },
    {
      "cell_type": "code",
      "execution_count": 21,
      "metadata": {
        "colab": {
          "base_uri": "https://localhost:8080/"
        },
        "id": "KTsfUC9yHff4",
        "outputId": "d5c0ab6c-7ebc-44ff-aa93-de4f8294c0d1"
      },
      "outputs": [
        {
          "output_type": "stream",
          "name": "stdout",
          "text": [
            "This is the Jupyter notebook\n",
            "It provides a platform for:\n",
            "Science Open Data\n",
            "Science Open Data\n",
            "Data Open Science\n"
          ]
        }
      ],
      "source": [
        "print(\"This is the Jupyter notebook\")\n",
        "print(\"It provides a platform for:\")\n",
        "words = ['Open', 'Data', 'Science']\n",
        "from random import shuffle\n",
        "for i in range(3):\n",
        "    shuffle(words)\n",
        "    print(' '.join(words))\n"
      ]
    },
    {
      "cell_type": "markdown",
      "metadata": {
        "id": "WbifiA_AHff6"
      },
      "source": [
        "Have a play with the code in the above box. Think about the following questions: what is the difference between `CTRL-enter` and `SHIFT-enter` in running the code? What does the command `shuffle` do? Can you find out by typing `shuffle?` in a code box?\n",
        "Once you've had a play with the code we can load in some data using the `pandas` library for data analysis."
      ]
    },
    {
      "cell_type": "markdown",
      "source": [
        "difference: CTRL-enter: run current cell without selecting next cell; SHIFT-enter: run current cell and select the next cell\n",
        "\n",
        "shuffle command: randomly change the sequence of elements inside the list\n",
        "\n",
        "YES!: shuffle(x, random=None), where randome is a float in range [0.0, 1.0) and default will lead to random value of random."
      ],
      "metadata": {
        "id": "h4-Qe8b5YdMf"
      }
    },
    {
      "cell_type": "markdown",
      "metadata": {
        "id": "4agHCB_1Hff6"
      },
      "source": [
        "## Movie Body Count Example\n",
        "\n",
        "There is a crisis in the movie industry, deaths are occuring on a massive scale. In every feature film the body count is tolling up. But what is the cause of all these deaths? Let's try and investigate.\n",
        "\n",
        "For our first example, we take inspiration from work by [researchers at NJIT](https://www.theswarmlab.com/blog/rvspython/r/2014/02/02/r-vs-python-round-2-2/). Researchers were comparing the qualities of Python with R. They put together a data base of results from the \"Internet Movie Database\" and the [Movie Body Count](http://www.moviebodycounts.com/) website which will allow us to do some preliminary investigation."
      ]
    },
    {
      "cell_type": "markdown",
      "metadata": {
        "id": "abchwOAxHff7"
      },
      "source": [
        "We will make use of data that has already been 'scraped' from the [Movie Body Count](http://www.moviebodycounts.com/) website. Code and the data is available at [a github repository](https://github.com/sjmgarnier/R-vs-Python/tree/master/Deadliest%20movies%20scrape/code). Git is a version control system and github is a website that hosts code that can be accessed through git. By sharing the code publicly through github, the authors are licensing the code publicly and allowing you to access and edit it. As well as accessing the code via github you can also [download the zip file](https://github.com/sjmgarnier/R-vs-Python/archive/master.zip). But let's do that in python"
      ]
    },
    {
      "cell_type": "code",
      "execution_count": 14,
      "metadata": {
        "colab": {
          "base_uri": "https://localhost:8080/"
        },
        "id": "BpJTYNa-Hff7",
        "outputId": "3d1cf183-36cf-49f6-cdf1-56c09b58d91b"
      },
      "outputs": [
        {
          "output_type": "execute_result",
          "data": {
            "text/plain": [
              "('./master.zip', <http.client.HTTPMessage at 0x7d880520a440>)"
            ]
          },
          "metadata": {},
          "execution_count": 14
        }
      ],
      "source": [
        "import urllib.request\n",
        "urllib.request.urlretrieve('https://github.com/sjmgarnier/R-vs-Python/archive/master.zip', './master.zip')"
      ]
    },
    {
      "cell_type": "markdown",
      "metadata": {
        "id": "UwvpiPZWHff8"
      },
      "source": [
        "Once the data is downloaded we can unzip it into the same directory where we are running the lab class."
      ]
    },
    {
      "cell_type": "code",
      "execution_count": 24,
      "metadata": {
        "id": "g0Pz-JbHHff8"
      },
      "outputs": [],
      "source": [
        "import zipfile\n",
        "zip = zipfile.ZipFile('./master.zip', 'r')\n",
        "for name in zip.namelist():\n",
        "    zip.extract(name, '.')"
      ]
    },
    {
      "cell_type": "code",
      "execution_count": 25,
      "metadata": {
        "id": "SzCzpjrZHff9"
      },
      "outputs": [],
      "source": [
        "import pandas as pd # import the pandas library into a namespace called pd\n",
        "film_deaths = pd.read_csv('./R-vs-Python-master/Deadliest movies scrape/code/film-death-counts-Python.csv')\n"
      ]
    },
    {
      "cell_type": "markdown",
      "metadata": {
        "id": "Ra1kvpfyHff9"
      },
      "source": [
        "Once it is loaded in the data can be summarized using the `describe` method in pandas.\n"
      ]
    },
    {
      "cell_type": "code",
      "execution_count": 33,
      "metadata": {
        "colab": {
          "base_uri": "https://localhost:8080/",
          "height": 300
        },
        "id": "lCYI9FK3Hff-",
        "outputId": "5e3a0968-5301-4fe5-a72d-7e76ac31ad94"
      },
      "outputs": [
        {
          "output_type": "execute_result",
          "data": {
            "text/plain": [
              "              Year  Body_Count  Length_Minutes  IMDB_Rating\n",
              "count   421.000000  421.000000      421.000000   421.000000\n",
              "mean   1996.491686   53.287411      115.427553     6.882898\n",
              "std      10.913210   82.068035       21.652287     1.110788\n",
              "min    1949.000000    0.000000       79.000000     2.000000\n",
              "25%    1991.000000   11.000000      100.000000     6.200000\n",
              "50%    2000.000000   28.000000      111.000000     6.900000\n",
              "75%    2005.000000   61.000000      127.000000     7.700000\n",
              "max    2009.000000  836.000000      201.000000     9.300000"
            ],
            "text/html": [
              "\n",
              "  <div id=\"df-171456ca-c69f-4c30-b4c0-0fb6d31d2730\" class=\"colab-df-container\">\n",
              "    <div>\n",
              "<style scoped>\n",
              "    .dataframe tbody tr th:only-of-type {\n",
              "        vertical-align: middle;\n",
              "    }\n",
              "\n",
              "    .dataframe tbody tr th {\n",
              "        vertical-align: top;\n",
              "    }\n",
              "\n",
              "    .dataframe thead th {\n",
              "        text-align: right;\n",
              "    }\n",
              "</style>\n",
              "<table border=\"1\" class=\"dataframe\">\n",
              "  <thead>\n",
              "    <tr style=\"text-align: right;\">\n",
              "      <th></th>\n",
              "      <th>Year</th>\n",
              "      <th>Body_Count</th>\n",
              "      <th>Length_Minutes</th>\n",
              "      <th>IMDB_Rating</th>\n",
              "    </tr>\n",
              "  </thead>\n",
              "  <tbody>\n",
              "    <tr>\n",
              "      <th>count</th>\n",
              "      <td>421.000000</td>\n",
              "      <td>421.000000</td>\n",
              "      <td>421.000000</td>\n",
              "      <td>421.000000</td>\n",
              "    </tr>\n",
              "    <tr>\n",
              "      <th>mean</th>\n",
              "      <td>1996.491686</td>\n",
              "      <td>53.287411</td>\n",
              "      <td>115.427553</td>\n",
              "      <td>6.882898</td>\n",
              "    </tr>\n",
              "    <tr>\n",
              "      <th>std</th>\n",
              "      <td>10.913210</td>\n",
              "      <td>82.068035</td>\n",
              "      <td>21.652287</td>\n",
              "      <td>1.110788</td>\n",
              "    </tr>\n",
              "    <tr>\n",
              "      <th>min</th>\n",
              "      <td>1949.000000</td>\n",
              "      <td>0.000000</td>\n",
              "      <td>79.000000</td>\n",
              "      <td>2.000000</td>\n",
              "    </tr>\n",
              "    <tr>\n",
              "      <th>25%</th>\n",
              "      <td>1991.000000</td>\n",
              "      <td>11.000000</td>\n",
              "      <td>100.000000</td>\n",
              "      <td>6.200000</td>\n",
              "    </tr>\n",
              "    <tr>\n",
              "      <th>50%</th>\n",
              "      <td>2000.000000</td>\n",
              "      <td>28.000000</td>\n",
              "      <td>111.000000</td>\n",
              "      <td>6.900000</td>\n",
              "    </tr>\n",
              "    <tr>\n",
              "      <th>75%</th>\n",
              "      <td>2005.000000</td>\n",
              "      <td>61.000000</td>\n",
              "      <td>127.000000</td>\n",
              "      <td>7.700000</td>\n",
              "    </tr>\n",
              "    <tr>\n",
              "      <th>max</th>\n",
              "      <td>2009.000000</td>\n",
              "      <td>836.000000</td>\n",
              "      <td>201.000000</td>\n",
              "      <td>9.300000</td>\n",
              "    </tr>\n",
              "  </tbody>\n",
              "</table>\n",
              "</div>\n",
              "    <div class=\"colab-df-buttons\">\n",
              "\n",
              "  <div class=\"colab-df-container\">\n",
              "    <button class=\"colab-df-convert\" onclick=\"convertToInteractive('df-171456ca-c69f-4c30-b4c0-0fb6d31d2730')\"\n",
              "            title=\"Convert this dataframe to an interactive table.\"\n",
              "            style=\"display:none;\">\n",
              "\n",
              "  <svg xmlns=\"http://www.w3.org/2000/svg\" height=\"24px\" viewBox=\"0 -960 960 960\">\n",
              "    <path d=\"M120-120v-720h720v720H120Zm60-500h600v-160H180v160Zm220 220h160v-160H400v160Zm0 220h160v-160H400v160ZM180-400h160v-160H180v160Zm440 0h160v-160H620v160ZM180-180h160v-160H180v160Zm440 0h160v-160H620v160Z\"/>\n",
              "  </svg>\n",
              "    </button>\n",
              "\n",
              "  <style>\n",
              "    .colab-df-container {\n",
              "      display:flex;\n",
              "      gap: 12px;\n",
              "    }\n",
              "\n",
              "    .colab-df-convert {\n",
              "      background-color: #E8F0FE;\n",
              "      border: none;\n",
              "      border-radius: 50%;\n",
              "      cursor: pointer;\n",
              "      display: none;\n",
              "      fill: #1967D2;\n",
              "      height: 32px;\n",
              "      padding: 0 0 0 0;\n",
              "      width: 32px;\n",
              "    }\n",
              "\n",
              "    .colab-df-convert:hover {\n",
              "      background-color: #E2EBFA;\n",
              "      box-shadow: 0px 1px 2px rgba(60, 64, 67, 0.3), 0px 1px 3px 1px rgba(60, 64, 67, 0.15);\n",
              "      fill: #174EA6;\n",
              "    }\n",
              "\n",
              "    .colab-df-buttons div {\n",
              "      margin-bottom: 4px;\n",
              "    }\n",
              "\n",
              "    [theme=dark] .colab-df-convert {\n",
              "      background-color: #3B4455;\n",
              "      fill: #D2E3FC;\n",
              "    }\n",
              "\n",
              "    [theme=dark] .colab-df-convert:hover {\n",
              "      background-color: #434B5C;\n",
              "      box-shadow: 0px 1px 3px 1px rgba(0, 0, 0, 0.15);\n",
              "      filter: drop-shadow(0px 1px 2px rgba(0, 0, 0, 0.3));\n",
              "      fill: #FFFFFF;\n",
              "    }\n",
              "  </style>\n",
              "\n",
              "    <script>\n",
              "      const buttonEl =\n",
              "        document.querySelector('#df-171456ca-c69f-4c30-b4c0-0fb6d31d2730 button.colab-df-convert');\n",
              "      buttonEl.style.display =\n",
              "        google.colab.kernel.accessAllowed ? 'block' : 'none';\n",
              "\n",
              "      async function convertToInteractive(key) {\n",
              "        const element = document.querySelector('#df-171456ca-c69f-4c30-b4c0-0fb6d31d2730');\n",
              "        const dataTable =\n",
              "          await google.colab.kernel.invokeFunction('convertToInteractive',\n",
              "                                                    [key], {});\n",
              "        if (!dataTable) return;\n",
              "\n",
              "        const docLinkHtml = 'Like what you see? Visit the ' +\n",
              "          '<a target=\"_blank\" href=https://colab.research.google.com/notebooks/data_table.ipynb>data table notebook</a>'\n",
              "          + ' to learn more about interactive tables.';\n",
              "        element.innerHTML = '';\n",
              "        dataTable['output_type'] = 'display_data';\n",
              "        await google.colab.output.renderOutput(dataTable, element);\n",
              "        const docLink = document.createElement('div');\n",
              "        docLink.innerHTML = docLinkHtml;\n",
              "        element.appendChild(docLink);\n",
              "      }\n",
              "    </script>\n",
              "  </div>\n",
              "\n",
              "\n",
              "<div id=\"df-a429fde2-3eef-4a7e-823c-b090cdfd74b1\">\n",
              "  <button class=\"colab-df-quickchart\" onclick=\"quickchart('df-a429fde2-3eef-4a7e-823c-b090cdfd74b1')\"\n",
              "            title=\"Suggest charts.\"\n",
              "            style=\"display:none;\">\n",
              "\n",
              "<svg xmlns=\"http://www.w3.org/2000/svg\" height=\"24px\"viewBox=\"0 0 24 24\"\n",
              "     width=\"24px\">\n",
              "    <g>\n",
              "        <path d=\"M19 3H5c-1.1 0-2 .9-2 2v14c0 1.1.9 2 2 2h14c1.1 0 2-.9 2-2V5c0-1.1-.9-2-2-2zM9 17H7v-7h2v7zm4 0h-2V7h2v10zm4 0h-2v-4h2v4z\"/>\n",
              "    </g>\n",
              "</svg>\n",
              "  </button>\n",
              "\n",
              "<style>\n",
              "  .colab-df-quickchart {\n",
              "      --bg-color: #E8F0FE;\n",
              "      --fill-color: #1967D2;\n",
              "      --hover-bg-color: #E2EBFA;\n",
              "      --hover-fill-color: #174EA6;\n",
              "      --disabled-fill-color: #AAA;\n",
              "      --disabled-bg-color: #DDD;\n",
              "  }\n",
              "\n",
              "  [theme=dark] .colab-df-quickchart {\n",
              "      --bg-color: #3B4455;\n",
              "      --fill-color: #D2E3FC;\n",
              "      --hover-bg-color: #434B5C;\n",
              "      --hover-fill-color: #FFFFFF;\n",
              "      --disabled-bg-color: #3B4455;\n",
              "      --disabled-fill-color: #666;\n",
              "  }\n",
              "\n",
              "  .colab-df-quickchart {\n",
              "    background-color: var(--bg-color);\n",
              "    border: none;\n",
              "    border-radius: 50%;\n",
              "    cursor: pointer;\n",
              "    display: none;\n",
              "    fill: var(--fill-color);\n",
              "    height: 32px;\n",
              "    padding: 0;\n",
              "    width: 32px;\n",
              "  }\n",
              "\n",
              "  .colab-df-quickchart:hover {\n",
              "    background-color: var(--hover-bg-color);\n",
              "    box-shadow: 0 1px 2px rgba(60, 64, 67, 0.3), 0 1px 3px 1px rgba(60, 64, 67, 0.15);\n",
              "    fill: var(--button-hover-fill-color);\n",
              "  }\n",
              "\n",
              "  .colab-df-quickchart-complete:disabled,\n",
              "  .colab-df-quickchart-complete:disabled:hover {\n",
              "    background-color: var(--disabled-bg-color);\n",
              "    fill: var(--disabled-fill-color);\n",
              "    box-shadow: none;\n",
              "  }\n",
              "\n",
              "  .colab-df-spinner {\n",
              "    border: 2px solid var(--fill-color);\n",
              "    border-color: transparent;\n",
              "    border-bottom-color: var(--fill-color);\n",
              "    animation:\n",
              "      spin 1s steps(1) infinite;\n",
              "  }\n",
              "\n",
              "  @keyframes spin {\n",
              "    0% {\n",
              "      border-color: transparent;\n",
              "      border-bottom-color: var(--fill-color);\n",
              "      border-left-color: var(--fill-color);\n",
              "    }\n",
              "    20% {\n",
              "      border-color: transparent;\n",
              "      border-left-color: var(--fill-color);\n",
              "      border-top-color: var(--fill-color);\n",
              "    }\n",
              "    30% {\n",
              "      border-color: transparent;\n",
              "      border-left-color: var(--fill-color);\n",
              "      border-top-color: var(--fill-color);\n",
              "      border-right-color: var(--fill-color);\n",
              "    }\n",
              "    40% {\n",
              "      border-color: transparent;\n",
              "      border-right-color: var(--fill-color);\n",
              "      border-top-color: var(--fill-color);\n",
              "    }\n",
              "    60% {\n",
              "      border-color: transparent;\n",
              "      border-right-color: var(--fill-color);\n",
              "    }\n",
              "    80% {\n",
              "      border-color: transparent;\n",
              "      border-right-color: var(--fill-color);\n",
              "      border-bottom-color: var(--fill-color);\n",
              "    }\n",
              "    90% {\n",
              "      border-color: transparent;\n",
              "      border-bottom-color: var(--fill-color);\n",
              "    }\n",
              "  }\n",
              "</style>\n",
              "\n",
              "  <script>\n",
              "    async function quickchart(key) {\n",
              "      const quickchartButtonEl =\n",
              "        document.querySelector('#' + key + ' button');\n",
              "      quickchartButtonEl.disabled = true;  // To prevent multiple clicks.\n",
              "      quickchartButtonEl.classList.add('colab-df-spinner');\n",
              "      try {\n",
              "        const charts = await google.colab.kernel.invokeFunction(\n",
              "            'suggestCharts', [key], {});\n",
              "      } catch (error) {\n",
              "        console.error('Error during call to suggestCharts:', error);\n",
              "      }\n",
              "      quickchartButtonEl.classList.remove('colab-df-spinner');\n",
              "      quickchartButtonEl.classList.add('colab-df-quickchart-complete');\n",
              "    }\n",
              "    (() => {\n",
              "      let quickchartButtonEl =\n",
              "        document.querySelector('#df-a429fde2-3eef-4a7e-823c-b090cdfd74b1 button');\n",
              "      quickchartButtonEl.style.display =\n",
              "        google.colab.kernel.accessAllowed ? 'block' : 'none';\n",
              "    })();\n",
              "  </script>\n",
              "</div>\n",
              "    </div>\n",
              "  </div>\n"
            ]
          },
          "metadata": {},
          "execution_count": 33
        }
      ],
      "source": [
        "film_deaths.describe()"
      ]
    },
    {
      "cell_type": "markdown",
      "metadata": {
        "id": "U3rcuQkkHff-"
      },
      "source": [
        "In jupyter and jupyter notebook it is possible to see a list of all possible functions and attributes by typing the name of the object followed by .<Tab> for example in the above case if we type film_deaths.<Tab> it show the columns available (these are attributes in pandas dataframes) such as Body_Count, and also functions, such as .describe().\n",
        "\n",
        "For functions we can also see the documentation about the function by following the name with a question mark. This will open a box with documentation at the bottom which can be closed with the x button."
      ]
    },
    {
      "cell_type": "code",
      "execution_count": 30,
      "metadata": {
        "id": "RCawVoqgHff-"
      },
      "outputs": [],
      "source": [
        "film_deaths.describe?"
      ]
    },
    {
      "cell_type": "code",
      "execution_count": 34,
      "metadata": {
        "colab": {
          "base_uri": "https://localhost:8080/"
        },
        "id": "vc277PpcHff_",
        "outputId": "8c805adc-3b96-494e-a926-4fa4bfed0c6b"
      },
      "outputs": [
        {
          "output_type": "stream",
          "name": "stdout",
          "text": [
            "0      2002\n",
            "1      2007\n",
            "2      2006\n",
            "3      1999\n",
            "4      1971\n",
            "       ... \n",
            "416    2007\n",
            "417    1967\n",
            "418    2007\n",
            "419    2001\n",
            "420    1964\n",
            "Name: Year, Length: 421, dtype: int64\n",
            "0        7\n",
            "1       45\n",
            "2        0\n",
            "3        7\n",
            "4       10\n",
            "      ... \n",
            "416     10\n",
            "417     91\n",
            "418      3\n",
            "419      4\n",
            "420    140\n",
            "Name: Body_Count, Length: 421, dtype: int64\n"
          ]
        }
      ],
      "source": [
        "print(film_deaths['Year'])\n",
        "print(film_deaths['Body_Count'])"
      ]
    },
    {
      "cell_type": "markdown",
      "metadata": {
        "id": "Del8MM-aHff_"
      },
      "source": [
        "This shows the number of deaths per film across the years. We can plot the data as follows."
      ]
    },
    {
      "cell_type": "code",
      "execution_count": 39,
      "metadata": {
        "colab": {
          "base_uri": "https://localhost:8080/",
          "height": 430
        },
        "id": "TMNmgV_qHff_",
        "outputId": "6708539a-ef8c-40ca-96d6-3204318532dc"
      },
      "outputs": [
        {
          "output_type": "display_data",
          "data": {
            "text/plain": [
              "<Figure size 640x480 with 1 Axes>"
            ],
            "image/png": "[encoded data removed]"
          },
          "metadata": {}
        }
      ],
      "source": [
        "# this ensures the plot appears in the web browser\n",
        "%matplotlib inline\n",
        "import pylab as plt # this imports the plotting library in python\n",
        "\n",
        "plt.plot(film_deaths['Year'], film_deaths['Body_Count'], 'r+')"
      ]
    },
    {
      "cell_type": "markdown",
      "metadata": {
        "id": "2GfHr9sgHfgA"
      },
      "source": [
        "You may be curious what the arguments we give to plt.plot are for, now is the perfect time to look at the documentation"
      ]
    },
    {
      "cell_type": "code",
      "execution_count": 40,
      "metadata": {
        "id": "BmNhlptnHfgA"
      },
      "outputs": [],
      "source": [
        "plt.plot?"
      ]
    },
    {
      "cell_type": "code",
      "execution_count": 41,
      "metadata": {
        "colab": {
          "base_uri": "https://localhost:8080/",
          "height": 818
        },
        "id": "qlR4iu4QHfgB",
        "outputId": "a7878224-368b-4a43-f5f2-1acc031001f6"
      },
      "outputs": [
        {
          "output_type": "execute_result",
          "data": {
            "text/plain": [
              "                                              Film  Year  Body_Count  \\\n",
              "60                               Dip huet gaai tau  1990         214   \n",
              "117                                    Equilibrium  2002         236   \n",
              "154                                     Grindhouse  2007         310   \n",
              "159                               Lat sau san taam  1992         307   \n",
              "193                              Kingdom of Heaven  2005         610   \n",
              "206                               The Last Samurai  2003         558   \n",
              "222          The Lord of the Rings: The Two Towers  2002         468   \n",
              "223  The Lord of the Rings: The Return of the King  2003         836   \n",
              "291                                          Rambo  2008         247   \n",
              "317                            Saving Private Ryan  1998         255   \n",
              "349                              Starship Troopers  1997         256   \n",
              "375                                        Titanic  1997         307   \n",
              "382                                           Troy  2004         572   \n",
              "406                               We Were Soldiers  2002         305   \n",
              "\n",
              "    MPAA_Rating                               Genre  \\\n",
              "60          NaN                Crime|Drama|Thriller   \n",
              "117           R        Action|Drama|Sci-Fi|Thriller   \n",
              "154           R              Action|Horror|Thriller   \n",
              "159           R         Action|Crime|Drama|Thriller   \n",
              "193           R  Action|Adventure|Drama|History|War   \n",
              "206           R            Action|Drama|History|War   \n",
              "222       PG-13            Action|Adventure|Fantasy   \n",
              "223       PG-13            Action|Adventure|Fantasy   \n",
              "291           R                 Action|Thriller|War   \n",
              "317           R                    Action|Drama|War   \n",
              "349           R                       Action|Sci-Fi   \n",
              "375       PG-13                       Drama|Romance   \n",
              "382           R                     Adventure|Drama   \n",
              "406           R            Action|Drama|History|War   \n",
              "\n",
              "                                              Director  \\\n",
              "60                                            John Woo   \n",
              "117                                        Kurt Wimmer   \n",
              "154  Robert Rodriguez|Eli Roth|Quentin Tarantino|Ed...   \n",
              "159                                           John Woo   \n",
              "193                                       Ridley Scott   \n",
              "206                                       Edward Zwick   \n",
              "222                                      Peter Jackson   \n",
              "223                                      Peter Jackson   \n",
              "291                                 Sylvester Stallone   \n",
              "317                                   Steven Spielberg   \n",
              "349                                     Paul Verhoeven   \n",
              "375                                      James Cameron   \n",
              "382                                  Wolfgang Petersen   \n",
              "406                                    Randall Wallace   \n",
              "\n",
              "                                                Actors  Length_Minutes  \\\n",
              "60   Tony Leung Chiu Wai|Jacky Cheung|Waise Lee|Sim...             136   \n",
              "117  Christian Bale|Dominic Purcell|Sean Bean|Chris...             107   \n",
              "154  Kurt Russell|Zoë Bell|Rosario Dawson|Vanessa F...             191   \n",
              "159  Yun-Fat Chow|Tony Leung Chiu Wai|Teresa Mo|Phi...             128   \n",
              "193  Martin Hancock|Michael Sheen|Nathalie Cox|Eriq...             144   \n",
              "206  Ken Watanabe|Tom Cruise|William Atherton|Chad ...             154   \n",
              "222  Bruce Allpress|Sean Astin|John Bach|Sala Baker...             179   \n",
              "223  Noel Appleby|Alexandra Astin|Sean Astin|David ...             201   \n",
              "291  Sylvester Stallone|Julie Benz|Matthew Marsden|...              92   \n",
              "317  Tom Hanks|Tom Sizemore|Edward Burns|Barry Pepp...             169   \n",
              "349  Casper Van Dien|Dina Meyer|Denise Richards|Jak...             129   \n",
              "375  Leonardo DiCaprio|Kate Winslet|Billy Zane|Kath...             194   \n",
              "382  Julian Glover|Brian Cox|Nathan Jones|Adoni Mar...             163   \n",
              "406  Mel Gibson|Madeleine Stowe|Greg Kinnear|Sam El...             138   \n",
              "\n",
              "     IMDB_Rating  \n",
              "60           7.7  \n",
              "117          7.6  \n",
              "154          7.7  \n",
              "159          8.0  \n",
              "193          7.2  \n",
              "206          7.7  \n",
              "222          8.8  \n",
              "223          8.9  \n",
              "291          7.1  \n",
              "317          8.6  \n",
              "349          7.2  \n",
              "375          7.7  \n",
              "382          7.2  \n",
              "406          7.1  "
            ],
            "text/html": [
              "\n",
              "  <div id=\"df-5e6f61df-2a15-4073-b692-7fa153579f28\" class=\"colab-df-container\">\n",
              "    <div>\n",
              "<style scoped>\n",
              "    .dataframe tbody tr th:only-of-type {\n",
              "        vertical-align: middle;\n",
              "    }\n",
              "\n",
              "    .dataframe tbody tr th {\n",
              "        vertical-align: top;\n",
              "    }\n",
              "\n",
              "    .dataframe thead th {\n",
              "        text-align: right;\n",
              "    }\n",
              "</style>\n",
              "<table border=\"1\" class=\"dataframe\">\n",
              "  <thead>\n",
              "    <tr style=\"text-align: right;\">\n",
              "      <th></th>\n",
              "      <th>Film</th>\n",
              "      <th>Year</th>\n",
              "      <th>Body_Count</th>\n",
              "      <th>MPAA_Rating</th>\n",
              "      <th>Genre</th>\n",
              "      <th>Director</th>\n",
              "      <th>Actors</th>\n",
              "      <th>Length_Minutes</th>\n",
              "      <th>IMDB_Rating</th>\n",
              "    </tr>\n",
              "  </thead>\n",
              "  <tbody>\n",
              "    <tr>\n",
              "      <th>60</th>\n",
              "      <td>Dip huet gaai tau</td>\n",
              "      <td>1990</td>\n",
              "      <td>214</td>\n",
              "      <td>NaN</td>\n",
              "      <td>Crime|Drama|Thriller</td>\n",
              "      <td>John Woo</td>\n",
              "      <td>Tony Leung Chiu Wai|Jacky Cheung|Waise Lee|Sim...</td>\n",
              "      <td>136</td>\n",
              "      <td>7.7</td>\n",
              "    </tr>\n",
              "    <tr>\n",
              "      <th>117</th>\n",
              "      <td>Equilibrium</td>\n",
              "      <td>2002</td>\n",
              "      <td>236</td>\n",
              "      <td>R</td>\n",
              "      <td>Action|Drama|Sci-Fi|Thriller</td>\n",
              "      <td>Kurt Wimmer</td>\n",
              "      <td>Christian Bale|Dominic Purcell|Sean Bean|Chris...</td>\n",
              "      <td>107</td>\n",
              "      <td>7.6</td>\n",
              "    </tr>\n",
              "    <tr>\n",
              "      <th>154</th>\n",
              "      <td>Grindhouse</td>\n",
              "      <td>2007</td>\n",
              "      <td>310</td>\n",
              "      <td>R</td>\n",
              "      <td>Action|Horror|Thriller</td>\n",
              "      <td>Robert Rodriguez|Eli Roth|Quentin Tarantino|Ed...</td>\n",
              "      <td>Kurt Russell|Zoë Bell|Rosario Dawson|Vanessa F...</td>\n",
              "      <td>191</td>\n",
              "      <td>7.7</td>\n",
              "    </tr>\n",
              "    <tr>\n",
              "      <th>159</th>\n",
              "      <td>Lat sau san taam</td>\n",
              "      <td>1992</td>\n",
              "      <td>307</td>\n",
              "      <td>R</td>\n",
              "      <td>Action|Crime|Drama|Thriller</td>\n",
              "      <td>John Woo</td>\n",
              "      <td>Yun-Fat Chow|Tony Leung Chiu Wai|Teresa Mo|Phi...</td>\n",
              "      <td>128</td>\n",
              "      <td>8.0</td>\n",
              "    </tr>\n",
              "    <tr>\n",
              "      <th>193</th>\n",
              "      <td>Kingdom of Heaven</td>\n",
              "      <td>2005</td>\n",
              "      <td>610</td>\n",
              "      <td>R</td>\n",
              "      <td>Action|Adventure|Drama|History|War</td>\n",
              "      <td>Ridley Scott</td>\n",
              "      <td>Martin Hancock|Michael Sheen|Nathalie Cox|Eriq...</td>\n",
              "      <td>144</td>\n",
              "      <td>7.2</td>\n",
              "    </tr>\n",
              "    <tr>\n",
              "      <th>206</th>\n",
              "      <td>The Last Samurai</td>\n",
              "      <td>2003</td>\n",
              "      <td>558</td>\n",
              "      <td>R</td>\n",
              "      <td>Action|Drama|History|War</td>\n",
              "      <td>Edward Zwick</td>\n",
              "      <td>Ken Watanabe|Tom Cruise|William Atherton|Chad ...</td>\n",
              "      <td>154</td>\n",
              "      <td>7.7</td>\n",
              "    </tr>\n",
              "    <tr>\n",
              "      <th>222</th>\n",
              "      <td>The Lord of the Rings: The Two Towers</td>\n",
              "      <td>2002</td>\n",
              "      <td>468</td>\n",
              "      <td>PG-13</td>\n",
              "      <td>Action|Adventure|Fantasy</td>\n",
              "      <td>Peter Jackson</td>\n",
              "      <td>Bruce Allpress|Sean Astin|John Bach|Sala Baker...</td>\n",
              "      <td>179</td>\n",
              "      <td>8.8</td>\n",
              "    </tr>\n",
              "    <tr>\n",
              "      <th>223</th>\n",
              "      <td>The Lord of the Rings: The Return of the King</td>\n",
              "      <td>2003</td>\n",
              "      <td>836</td>\n",
              "      <td>PG-13</td>\n",
              "      <td>Action|Adventure|Fantasy</td>\n",
              "      <td>Peter Jackson</td>\n",
              "      <td>Noel Appleby|Alexandra Astin|Sean Astin|David ...</td>\n",
              "      <td>201</td>\n",
              "      <td>8.9</td>\n",
              "    </tr>\n",
              "    <tr>\n",
              "      <th>291</th>\n",
              "      <td>Rambo</td>\n",
              "      <td>2008</td>\n",
              "      <td>247</td>\n",
              "      <td>R</td>\n",
              "      <td>Action|Thriller|War</td>\n",
              "      <td>Sylvester Stallone</td>\n",
              "      <td>Sylvester Stallone|Julie Benz|Matthew Marsden|...</td>\n",
              "      <td>92</td>\n",
              "      <td>7.1</td>\n",
              "    </tr>\n",
              "    <tr>\n",
              "      <th>317</th>\n",
              "      <td>Saving Private Ryan</td>\n",
              "      <td>1998</td>\n",
              "      <td>255</td>\n",
              "      <td>R</td>\n",
              "      <td>Action|Drama|War</td>\n",
              "      <td>Steven Spielberg</td>\n",
              "      <td>Tom Hanks|Tom Sizemore|Edward Burns|Barry Pepp...</td>\n",
              "      <td>169</td>\n",
              "      <td>8.6</td>\n",
              "    </tr>\n",
              "    <tr>\n",
              "      <th>349</th>\n",
              "      <td>Starship Troopers</td>\n",
              "      <td>1997</td>\n",
              "      <td>256</td>\n",
              "      <td>R</td>\n",
              "      <td>Action|Sci-Fi</td>\n",
              "      <td>Paul Verhoeven</td>\n",
              "      <td>Casper Van Dien|Dina Meyer|Denise Richards|Jak...</td>\n",
              "      <td>129</td>\n",
              "      <td>7.2</td>\n",
              "    </tr>\n",
              "    <tr>\n",
              "      <th>375</th>\n",
              "      <td>Titanic</td>\n",
              "      <td>1997</td>\n",
              "      <td>307</td>\n",
              "      <td>PG-13</td>\n",
              "      <td>Drama|Romance</td>\n",
              "      <td>James Cameron</td>\n",
              "      <td>Leonardo DiCaprio|Kate Winslet|Billy Zane|Kath...</td>\n",
              "      <td>194</td>\n",
              "      <td>7.7</td>\n",
              "    </tr>\n",
              "    <tr>\n",
              "      <th>382</th>\n",
              "      <td>Troy</td>\n",
              "      <td>2004</td>\n",
              "      <td>572</td>\n",
              "      <td>R</td>\n",
              "      <td>Adventure|Drama</td>\n",
              "      <td>Wolfgang Petersen</td>\n",
              "      <td>Julian Glover|Brian Cox|Nathan Jones|Adoni Mar...</td>\n",
              "      <td>163</td>\n",
              "      <td>7.2</td>\n",
              "    </tr>\n",
              "    <tr>\n",
              "      <th>406</th>\n",
              "      <td>We Were Soldiers</td>\n",
              "      <td>2002</td>\n",
              "      <td>305</td>\n",
              "      <td>R</td>\n",
              "      <td>Action|Drama|History|War</td>\n",
              "      <td>Randall Wallace</td>\n",
              "      <td>Mel Gibson|Madeleine Stowe|Greg Kinnear|Sam El...</td>\n",
              "      <td>138</td>\n",
              "      <td>7.1</td>\n",
              "    </tr>\n",
              "  </tbody>\n",
              "</table>\n",
              "</div>\n",
              "    <div class=\"colab-df-buttons\">\n",
              "\n",
              "  <div class=\"colab-df-container\">\n",
              "    <button class=\"colab-df-convert\" onclick=\"convertToInteractive('df-5e6f61df-2a15-4073-b692-7fa153579f28')\"\n",
              "            title=\"Convert this dataframe to an interactive table.\"\n",
              "            style=\"display:none;\">\n",
              "\n",
              "  <svg xmlns=\"http://www.w3.org/2000/svg\" height=\"24px\" viewBox=\"0 -960 960 960\">\n",
              "    <path d=\"M120-120v-720h720v720H120Zm60-500h600v-160H180v160Zm220 220h160v-160H400v160Zm0 220h160v-160H400v160ZM180-400h160v-160H180v160Zm440 0h160v-160H620v160ZM180-180h160v-160H180v160Zm440 0h160v-160H620v160Z\"/>\n",
              "  </svg>\n",
              "    </button>\n",
              "\n",
              "  <style>\n",
              "    .colab-df-container {\n",
              "      display:flex;\n",
              "      gap: 12px;\n",
              "    }\n",
              "\n",
              "    .colab-df-convert {\n",
              "      background-color: #E8F0FE;\n",
              "      border: none;\n",
              "      border-radius: 50%;\n",
              "      cursor: pointer;\n",
              "      display: none;\n",
              "      fill: #1967D2;\n",
              "      height: 32px;\n",
              "      padding: 0 0 0 0;\n",
              "      width: 32px;\n",
              "    }\n",
              "\n",
              "    .colab-df-convert:hover {\n",
              "      background-color: #E2EBFA;\n",
              "      box-shadow: 0px 1px 2px rgba(60, 64, 67, 0.3), 0px 1px 3px 1px rgba(60, 64, 67, 0.15);\n",
              "      fill: #174EA6;\n",
              "    }\n",
              "\n",
              "    .colab-df-buttons div {\n",
              "      margin-bottom: 4px;\n",
              "    }\n",
              "\n",
              "    [theme=dark] .colab-df-convert {\n",
              "      background-color: #3B4455;\n",
              "      fill: #D2E3FC;\n",
              "    }\n",
              "\n",
              "    [theme=dark] .colab-df-convert:hover {\n",
              "      background-color: #434B5C;\n",
              "      box-shadow: 0px 1px 3px 1px rgba(0, 0, 0, 0.15);\n",
              "      filter: drop-shadow(0px 1px 2px rgba(0, 0, 0, 0.3));\n",
              "      fill: #FFFFFF;\n",
              "    }\n",
              "  </style>\n",
              "\n",
              "    <script>\n",
              "      const buttonEl =\n",
              "        document.querySelector('#df-5e6f61df-2a15-4073-b692-7fa153579f28 button.colab-df-convert');\n",
              "      buttonEl.style.display =\n",
              "        google.colab.kernel.accessAllowed ? 'block' : 'none';\n",
              "\n",
              "      async function convertToInteractive(key) {\n",
              "        const element = document.querySelector('#df-5e6f61df-2a15-4073-b692-7fa153579f28');\n",
              "        const dataTable =\n",
              "          await google.colab.kernel.invokeFunction('convertToInteractive',\n",
              "                                                    [key], {});\n",
              "        if (!dataTable) return;\n",
              "\n",
              "        const docLinkHtml = 'Like what you see? Visit the ' +\n",
              "          '<a target=\"_blank\" href=https://colab.research.google.com/notebooks/data_table.ipynb>data table notebook</a>'\n",
              "          + ' to learn more about interactive tables.';\n",
              "        element.innerHTML = '';\n",
              "        dataTable['output_type'] = 'display_data';\n",
              "        await google.colab.output.renderOutput(dataTable, element);\n",
              "        const docLink = document.createElement('div');\n",
              "        docLink.innerHTML = docLinkHtml;\n",
              "        element.appendChild(docLink);\n",
              "      }\n",
              "    </script>\n",
              "  </div>\n",
              "\n",
              "\n",
              "<div id=\"df-4704d457-1016-4793-8ee2-e4f60fb478e9\">\n",
              "  <button class=\"colab-df-quickchart\" onclick=\"quickchart('df-4704d457-1016-4793-8ee2-e4f60fb478e9')\"\n",
              "            title=\"Suggest charts.\"\n",
              "            style=\"display:none;\">\n",
              "\n",
              "<svg xmlns=\"http://www.w3.org/2000/svg\" height=\"24px\"viewBox=\"0 0 24 24\"\n",
              "     width=\"24px\">\n",
              "    <g>\n",
              "        <path d=\"M19 3H5c-1.1 0-2 .9-2 2v14c0 1.1.9 2 2 2h14c1.1 0 2-.9 2-2V5c0-1.1-.9-2-2-2zM9 17H7v-7h2v7zm4 0h-2V7h2v10zm4 0h-2v-4h2v4z\"/>\n",
              "    </g>\n",
              "</svg>\n",
              "  </button>\n",
              "\n",
              "<style>\n",
              "  .colab-df-quickchart {\n",
              "      --bg-color: #E8F0FE;\n",
              "      --fill-color: #1967D2;\n",
              "      --hover-bg-color: #E2EBFA;\n",
              "      --hover-fill-color: #174EA6;\n",
              "      --disabled-fill-color: #AAA;\n",
              "      --disabled-bg-color: #DDD;\n",
              "  }\n",
              "\n",
              "  [theme=dark] .colab-df-quickchart {\n",
              "      --bg-color: #3B4455;\n",
              "      --fill-color: #D2E3FC;\n",
              "      --hover-bg-color: #434B5C;\n",
              "      --hover-fill-color: #FFFFFF;\n",
              "      --disabled-bg-color: #3B4455;\n",
              "      --disabled-fill-color: #666;\n",
              "  }\n",
              "\n",
              "  .colab-df-quickchart {\n",
              "    background-color: var(--bg-color);\n",
              "    border: none;\n",
              "    border-radius: 50%;\n",
              "    cursor: pointer;\n",
              "    display: none;\n",
              "    fill: var(--fill-color);\n",
              "    height: 32px;\n",
              "    padding: 0;\n",
              "    width: 32px;\n",
              "  }\n",
              "\n",
              "  .colab-df-quickchart:hover {\n",
              "    background-color: var(--hover-bg-color);\n",
              "    box-shadow: 0 1px 2px rgba(60, 64, 67, 0.3), 0 1px 3px 1px rgba(60, 64, 67, 0.15);\n",
              "    fill: var(--button-hover-fill-color);\n",
              "  }\n",
              "\n",
              "  .colab-df-quickchart-complete:disabled,\n",
              "  .colab-df-quickchart-complete:disabled:hover {\n",
              "    background-color: var(--disabled-bg-color);\n",
              "    fill: var(--disabled-fill-color);\n",
              "    box-shadow: none;\n",
              "  }\n",
              "\n",
              "  .colab-df-spinner {\n",
              "    border: 2px solid var(--fill-color);\n",
              "    border-color: transparent;\n",
              "    border-bottom-color: var(--fill-color);\n",
              "    animation:\n",
              "      spin 1s steps(1) infinite;\n",
              "  }\n",
              "\n",
              "  @keyframes spin {\n",
              "    0% {\n",
              "      border-color: transparent;\n",
              "      border-bottom-color: var(--fill-color);\n",
              "      border-left-color: var(--fill-color);\n",
              "    }\n",
              "    20% {\n",
              "      border-color: transparent;\n",
              "      border-left-color: var(--fill-color);\n",
              "      border-top-color: var(--fill-color);\n",
              "    }\n",
              "    30% {\n",
              "      border-color: transparent;\n",
              "      border-left-color: var(--fill-color);\n",
              "      border-top-color: var(--fill-color);\n",
              "      border-right-color: var(--fill-color);\n",
              "    }\n",
              "    40% {\n",
              "      border-color: transparent;\n",
              "      border-right-color: var(--fill-color);\n",
              "      border-top-color: var(--fill-color);\n",
              "    }\n",
              "    60% {\n",
              "      border-color: transparent;\n",
              "      border-right-color: var(--fill-color);\n",
              "    }\n",
              "    80% {\n",
              "      border-color: transparent;\n",
              "      border-right-color: var(--fill-color);\n",
              "      border-bottom-color: var(--fill-color);\n",
              "    }\n",
              "    90% {\n",
              "      border-color: transparent;\n",
              "      border-bottom-color: var(--fill-color);\n",
              "    }\n",
              "  }\n",
              "</style>\n",
              "\n",
              "  <script>\n",
              "    async function quickchart(key) {\n",
              "      const quickchartButtonEl =\n",
              "        document.querySelector('#' + key + ' button');\n",
              "      quickchartButtonEl.disabled = true;  // To prevent multiple clicks.\n",
              "      quickchartButtonEl.classList.add('colab-df-spinner');\n",
              "      try {\n",
              "        const charts = await google.colab.kernel.invokeFunction(\n",
              "            'suggestCharts', [key], {});\n",
              "      } catch (error) {\n",
              "        console.error('Error during call to suggestCharts:', error);\n",
              "      }\n",
              "      quickchartButtonEl.classList.remove('colab-df-spinner');\n",
              "      quickchartButtonEl.classList.add('colab-df-quickchart-complete');\n",
              "    }\n",
              "    (() => {\n",
              "      let quickchartButtonEl =\n",
              "        document.querySelector('#df-4704d457-1016-4793-8ee2-e4f60fb478e9 button');\n",
              "      quickchartButtonEl.style.display =\n",
              "        google.colab.kernel.accessAllowed ? 'block' : 'none';\n",
              "    })();\n",
              "  </script>\n",
              "</div>\n",
              "    </div>\n",
              "  </div>\n"
            ]
          },
          "metadata": {},
          "execution_count": 41
        }
      ],
      "source": [
        "film_deaths[film_deaths['Body_Count']>200]"
      ]
    },
    {
      "cell_type": "markdown",
      "metadata": {
        "id": "R3V24KXwHfgA"
      },
      "source": [
        "We immediately note that some films have a lot of deaths, which prevent us seeing the detail of the main body of films. First lets identify the films with the most deaths."
      ]
    },
    {
      "cell_type": "markdown",
      "metadata": {
        "id": "KbVzVflhHfgB"
      },
      "source": [
        "Here we are using the command `film_deaths['Body_Count']>200` to index the films in the pandas data frame which have over 200 deaths. To sort them in order we can also use the `sort` command. The result of this command on its own is a data series of `True` and `False` values. However, when it is passed to the `film_deaths` data frame it returns a new data frame which contains only those values for which the data series is `True`. We can also sort the result. To sort the result by the values in the `Body_Count` column in *descending* order we use the following command."
      ]
    },
    {
      "cell_type": "code",
      "execution_count": 42,
      "metadata": {
        "colab": {
          "base_uri": "https://localhost:8080/",
          "height": 818
        },
        "id": "UKQj8yAuHfgB",
        "outputId": "ca125785-bb59-474d-a7c0-a9b3e23500b9"
      },
      "outputs": [
        {
          "output_type": "execute_result",
          "data": {
            "text/plain": [
              "                                              Film  Year  Body_Count  \\\n",
              "223  The Lord of the Rings: The Return of the King  2003         836   \n",
              "193                              Kingdom of Heaven  2005         610   \n",
              "382                                           Troy  2004         572   \n",
              "206                               The Last Samurai  2003         558   \n",
              "222          The Lord of the Rings: The Two Towers  2002         468   \n",
              "154                                     Grindhouse  2007         310   \n",
              "159                               Lat sau san taam  1992         307   \n",
              "375                                        Titanic  1997         307   \n",
              "406                               We Were Soldiers  2002         305   \n",
              "349                              Starship Troopers  1997         256   \n",
              "317                            Saving Private Ryan  1998         255   \n",
              "291                                          Rambo  2008         247   \n",
              "117                                    Equilibrium  2002         236   \n",
              "60                               Dip huet gaai tau  1990         214   \n",
              "\n",
              "    MPAA_Rating                               Genre  \\\n",
              "223       PG-13            Action|Adventure|Fantasy   \n",
              "193           R  Action|Adventure|Drama|History|War   \n",
              "382           R                     Adventure|Drama   \n",
              "206           R            Action|Drama|History|War   \n",
              "222       PG-13            Action|Adventure|Fantasy   \n",
              "154           R              Action|Horror|Thriller   \n",
              "159           R         Action|Crime|Drama|Thriller   \n",
              "375       PG-13                       Drama|Romance   \n",
              "406           R            Action|Drama|History|War   \n",
              "349           R                       Action|Sci-Fi   \n",
              "317           R                    Action|Drama|War   \n",
              "291           R                 Action|Thriller|War   \n",
              "117           R        Action|Drama|Sci-Fi|Thriller   \n",
              "60          NaN                Crime|Drama|Thriller   \n",
              "\n",
              "                                              Director  \\\n",
              "223                                      Peter Jackson   \n",
              "193                                       Ridley Scott   \n",
              "382                                  Wolfgang Petersen   \n",
              "206                                       Edward Zwick   \n",
              "222                                      Peter Jackson   \n",
              "154  Robert Rodriguez|Eli Roth|Quentin Tarantino|Ed...   \n",
              "159                                           John Woo   \n",
              "375                                      James Cameron   \n",
              "406                                    Randall Wallace   \n",
              "349                                     Paul Verhoeven   \n",
              "317                                   Steven Spielberg   \n",
              "291                                 Sylvester Stallone   \n",
              "117                                        Kurt Wimmer   \n",
              "60                                            John Woo   \n",
              "\n",
              "                                                Actors  Length_Minutes  \\\n",
              "223  Noel Appleby|Alexandra Astin|Sean Astin|David ...             201   \n",
              "193  Martin Hancock|Michael Sheen|Nathalie Cox|Eriq...             144   \n",
              "382  Julian Glover|Brian Cox|Nathan Jones|Adoni Mar...             163   \n",
              "206  Ken Watanabe|Tom Cruise|William Atherton|Chad ...             154   \n",
              "222  Bruce Allpress|Sean Astin|John Bach|Sala Baker...             179   \n",
              "154  Kurt Russell|Zoë Bell|Rosario Dawson|Vanessa F...             191   \n",
              "159  Yun-Fat Chow|Tony Leung Chiu Wai|Teresa Mo|Phi...             128   \n",
              "375  Leonardo DiCaprio|Kate Winslet|Billy Zane|Kath...             194   \n",
              "406  Mel Gibson|Madeleine Stowe|Greg Kinnear|Sam El...             138   \n",
              "349  Casper Van Dien|Dina Meyer|Denise Richards|Jak...             129   \n",
              "317  Tom Hanks|Tom Sizemore|Edward Burns|Barry Pepp...             169   \n",
              "291  Sylvester Stallone|Julie Benz|Matthew Marsden|...              92   \n",
              "117  Christian Bale|Dominic Purcell|Sean Bean|Chris...             107   \n",
              "60   Tony Leung Chiu Wai|Jacky Cheung|Waise Lee|Sim...             136   \n",
              "\n",
              "     IMDB_Rating  \n",
              "223          8.9  \n",
              "193          7.2  \n",
              "382          7.2  \n",
              "206          7.7  \n",
              "222          8.8  \n",
              "154          7.7  \n",
              "159          8.0  \n",
              "375          7.7  \n",
              "406          7.1  \n",
              "349          7.2  \n",
              "317          8.6  \n",
              "291          7.1  \n",
              "117          7.6  \n",
              "60           7.7  "
            ],
            "text/html": [
              "\n",
              "  <div id=\"df-396c611a-638a-4e6c-b3f9-bc6ccbe22157\" class=\"colab-df-container\">\n",
              "    <div>\n",
              "<style scoped>\n",
              "    .dataframe tbody tr th:only-of-type {\n",
              "        vertical-align: middle;\n",
              "    }\n",
              "\n",
              "    .dataframe tbody tr th {\n",
              "        vertical-align: top;\n",
              "    }\n",
              "\n",
              "    .dataframe thead th {\n",
              "        text-align: right;\n",
              "    }\n",
              "</style>\n",
              "<table border=\"1\" class=\"dataframe\">\n",
              "  <thead>\n",
              "    <tr style=\"text-align: right;\">\n",
              "      <th></th>\n",
              "      <th>Film</th>\n",
              "      <th>Year</th>\n",
              "      <th>Body_Count</th>\n",
              "      <th>MPAA_Rating</th>\n",
              "      <th>Genre</th>\n",
              "      <th>Director</th>\n",
              "      <th>Actors</th>\n",
              "      <th>Length_Minutes</th>\n",
              "      <th>IMDB_Rating</th>\n",
              "    </tr>\n",
              "  </thead>\n",
              "  <tbody>\n",
              "    <tr>\n",
              "      <th>223</th>\n",
              "      <td>The Lord of the Rings: The Return of the King</td>\n",
              "      <td>2003</td>\n",
              "      <td>836</td>\n",
              "      <td>PG-13</td>\n",
              "      <td>Action|Adventure|Fantasy</td>\n",
              "      <td>Peter Jackson</td>\n",
              "      <td>Noel Appleby|Alexandra Astin|Sean Astin|David ...</td>\n",
              "      <td>201</td>\n",
              "      <td>8.9</td>\n",
              "    </tr>\n",
              "    <tr>\n",
              "      <th>193</th>\n",
              "      <td>Kingdom of Heaven</td>\n",
              "      <td>2005</td>\n",
              "      <td>610</td>\n",
              "      <td>R</td>\n",
              "      <td>Action|Adventure|Drama|History|War</td>\n",
              "      <td>Ridley Scott</td>\n",
              "      <td>Martin Hancock|Michael Sheen|Nathalie Cox|Eriq...</td>\n",
              "      <td>144</td>\n",
              "      <td>7.2</td>\n",
              "    </tr>\n",
              "    <tr>\n",
              "      <th>382</th>\n",
              "      <td>Troy</td>\n",
              "      <td>2004</td>\n",
              "      <td>572</td>\n",
              "      <td>R</td>\n",
              "      <td>Adventure|Drama</td>\n",
              "      <td>Wolfgang Petersen</td>\n",
              "      <td>Julian Glover|Brian Cox|Nathan Jones|Adoni Mar...</td>\n",
              "      <td>163</td>\n",
              "      <td>7.2</td>\n",
              "    </tr>\n",
              "    <tr>\n",
              "      <th>206</th>\n",
              "      <td>The Last Samurai</td>\n",
              "      <td>2003</td>\n",
              "      <td>558</td>\n",
              "      <td>R</td>\n",
              "      <td>Action|Drama|History|War</td>\n",
              "      <td>Edward Zwick</td>\n",
              "      <td>Ken Watanabe|Tom Cruise|William Atherton|Chad ...</td>\n",
              "      <td>154</td>\n",
              "      <td>7.7</td>\n",
              "    </tr>\n",
              "    <tr>\n",
              "      <th>222</th>\n",
              "      <td>The Lord of the Rings: The Two Towers</td>\n",
              "      <td>2002</td>\n",
              "      <td>468</td>\n",
              "      <td>PG-13</td>\n",
              "      <td>Action|Adventure|Fantasy</td>\n",
              "      <td>Peter Jackson</td>\n",
              "      <td>Bruce Allpress|Sean Astin|John Bach|Sala Baker...</td>\n",
              "      <td>179</td>\n",
              "      <td>8.8</td>\n",
              "    </tr>\n",
              "    <tr>\n",
              "      <th>154</th>\n",
              "      <td>Grindhouse</td>\n",
              "      <td>2007</td>\n",
              "      <td>310</td>\n",
              "      <td>R</td>\n",
              "      <td>Action|Horror|Thriller</td>\n",
              "      <td>Robert Rodriguez|Eli Roth|Quentin Tarantino|Ed...</td>\n",
              "      <td>Kurt Russell|Zoë Bell|Rosario Dawson|Vanessa F...</td>\n",
              "      <td>191</td>\n",
              "      <td>7.7</td>\n",
              "    </tr>\n",
              "    <tr>\n",
              "      <th>159</th>\n",
              "      <td>Lat sau san taam</td>\n",
              "      <td>1992</td>\n",
              "      <td>307</td>\n",
              "      <td>R</td>\n",
              "      <td>Action|Crime|Drama|Thriller</td>\n",
              "      <td>John Woo</td>\n",
              "      <td>Yun-Fat Chow|Tony Leung Chiu Wai|Teresa Mo|Phi...</td>\n",
              "      <td>128</td>\n",
              "      <td>8.0</td>\n",
              "    </tr>\n",
              "    <tr>\n",
              "      <th>375</th>\n",
              "      <td>Titanic</td>\n",
              "      <td>1997</td>\n",
              "      <td>307</td>\n",
              "      <td>PG-13</td>\n",
              "      <td>Drama|Romance</td>\n",
              "      <td>James Cameron</td>\n",
              "      <td>Leonardo DiCaprio|Kate Winslet|Billy Zane|Kath...</td>\n",
              "      <td>194</td>\n",
              "      <td>7.7</td>\n",
              "    </tr>\n",
              "    <tr>\n",
              "      <th>406</th>\n",
              "      <td>We Were Soldiers</td>\n",
              "      <td>2002</td>\n",
              "      <td>305</td>\n",
              "      <td>R</td>\n",
              "      <td>Action|Drama|History|War</td>\n",
              "      <td>Randall Wallace</td>\n",
              "      <td>Mel Gibson|Madeleine Stowe|Greg Kinnear|Sam El...</td>\n",
              "      <td>138</td>\n",
              "      <td>7.1</td>\n",
              "    </tr>\n",
              "    <tr>\n",
              "      <th>349</th>\n",
              "      <td>Starship Troopers</td>\n",
              "      <td>1997</td>\n",
              "      <td>256</td>\n",
              "      <td>R</td>\n",
              "      <td>Action|Sci-Fi</td>\n",
              "      <td>Paul Verhoeven</td>\n",
              "      <td>Casper Van Dien|Dina Meyer|Denise Richards|Jak...</td>\n",
              "      <td>129</td>\n",
              "      <td>7.2</td>\n",
              "    </tr>\n",
              "    <tr>\n",
              "      <th>317</th>\n",
              "      <td>Saving Private Ryan</td>\n",
              "      <td>1998</td>\n",
              "      <td>255</td>\n",
              "      <td>R</td>\n",
              "      <td>Action|Drama|War</td>\n",
              "      <td>Steven Spielberg</td>\n",
              "      <td>Tom Hanks|Tom Sizemore|Edward Burns|Barry Pepp...</td>\n",
              "      <td>169</td>\n",
              "      <td>8.6</td>\n",
              "    </tr>\n",
              "    <tr>\n",
              "      <th>291</th>\n",
              "      <td>Rambo</td>\n",
              "      <td>2008</td>\n",
              "      <td>247</td>\n",
              "      <td>R</td>\n",
              "      <td>Action|Thriller|War</td>\n",
              "      <td>Sylvester Stallone</td>\n",
              "      <td>Sylvester Stallone|Julie Benz|Matthew Marsden|...</td>\n",
              "      <td>92</td>\n",
              "      <td>7.1</td>\n",
              "    </tr>\n",
              "    <tr>\n",
              "      <th>117</th>\n",
              "      <td>Equilibrium</td>\n",
              "      <td>2002</td>\n",
              "      <td>236</td>\n",
              "      <td>R</td>\n",
              "      <td>Action|Drama|Sci-Fi|Thriller</td>\n",
              "      <td>Kurt Wimmer</td>\n",
              "      <td>Christian Bale|Dominic Purcell|Sean Bean|Chris...</td>\n",
              "      <td>107</td>\n",
              "      <td>7.6</td>\n",
              "    </tr>\n",
              "    <tr>\n",
              "      <th>60</th>\n",
              "      <td>Dip huet gaai tau</td>\n",
              "      <td>1990</td>\n",
              "      <td>214</td>\n",
              "      <td>NaN</td>\n",
              "      <td>Crime|Drama|Thriller</td>\n",
              "      <td>John Woo</td>\n",
              "      <td>Tony Leung Chiu Wai|Jacky Cheung|Waise Lee|Sim...</td>\n",
              "      <td>136</td>\n",
              "      <td>7.7</td>\n",
              "    </tr>\n",
              "  </tbody>\n",
              "</table>\n",
              "</div>\n",
              "    <div class=\"colab-df-buttons\">\n",
              "\n",
              "  <div class=\"colab-df-container\">\n",
              "    <button class=\"colab-df-convert\" onclick=\"convertToInteractive('df-396c611a-638a-4e6c-b3f9-bc6ccbe22157')\"\n",
              "            title=\"Convert this dataframe to an interactive table.\"\n",
              "            style=\"display:none;\">\n",
              "\n",
              "  <svg xmlns=\"http://www.w3.org/2000/svg\" height=\"24px\" viewBox=\"0 -960 960 960\">\n",
              "    <path d=\"M120-120v-720h720v720H120Zm60-500h600v-160H180v160Zm220 220h160v-160H400v160Zm0 220h160v-160H400v160ZM180-400h160v-160H180v160Zm440 0h160v-160H620v160ZM180-180h160v-160H180v160Zm440 0h160v-160H620v160Z\"/>\n",
              "  </svg>\n",
              "    </button>\n",
              "\n",
              "  <style>\n",
              "    .colab-df-container {\n",
              "      display:flex;\n",
              "      gap: 12px;\n",
              "    }\n",
              "\n",
              "    .colab-df-convert {\n",
              "      background-color: #E8F0FE;\n",
              "      border: none;\n",
              "      border-radius: 50%;\n",
              "      cursor: pointer;\n",
              "      display: none;\n",
              "      fill: #1967D2;\n",
              "      height: 32px;\n",
              "      padding: 0 0 0 0;\n",
              "      width: 32px;\n",
              "    }\n",
              "\n",
              "    .colab-df-convert:hover {\n",
              "      background-color: #E2EBFA;\n",
              "      box-shadow: 0px 1px 2px rgba(60, 64, 67, 0.3), 0px 1px 3px 1px rgba(60, 64, 67, 0.15);\n",
              "      fill: #174EA6;\n",
              "    }\n",
              "\n",
              "    .colab-df-buttons div {\n",
              "      margin-bottom: 4px;\n",
              "    }\n",
              "\n",
              "    [theme=dark] .colab-df-convert {\n",
              "      background-color: #3B4455;\n",
              "      fill: #D2E3FC;\n",
              "    }\n",
              "\n",
              "    [theme=dark] .colab-df-convert:hover {\n",
              "      background-color: #434B5C;\n",
              "      box-shadow: 0px 1px 3px 1px rgba(0, 0, 0, 0.15);\n",
              "      filter: drop-shadow(0px 1px 2px rgba(0, 0, 0, 0.3));\n",
              "      fill: #FFFFFF;\n",
              "    }\n",
              "  </style>\n",
              "\n",
              "    <script>\n",
              "      const buttonEl =\n",
              "        document.querySelector('#df-396c611a-638a-4e6c-b3f9-bc6ccbe22157 button.colab-df-convert');\n",
              "      buttonEl.style.display =\n",
              "        google.colab.kernel.accessAllowed ? 'block' : 'none';\n",
              "\n",
              "      async function convertToInteractive(key) {\n",
              "        const element = document.querySelector('#df-396c611a-638a-4e6c-b3f9-bc6ccbe22157');\n",
              "        const dataTable =\n",
              "          await google.colab.kernel.invokeFunction('convertToInteractive',\n",
              "                                                    [key], {});\n",
              "        if (!dataTable) return;\n",
              "\n",
              "        const docLinkHtml = 'Like what you see? Visit the ' +\n",
              "          '<a target=\"_blank\" href=https://colab.research.google.com/notebooks/data_table.ipynb>data table notebook</a>'\n",
              "          + ' to learn more about interactive tables.';\n",
              "        element.innerHTML = '';\n",
              "        dataTable['output_type'] = 'display_data';\n",
              "        await google.colab.output.renderOutput(dataTable, element);\n",
              "        const docLink = document.createElement('div');\n",
              "        docLink.innerHTML = docLinkHtml;\n",
              "        element.appendChild(docLink);\n",
              "      }\n",
              "    </script>\n",
              "  </div>\n",
              "\n",
              "\n",
              "<div id=\"df-d42adbd2-f279-4606-8b2f-372afdf9940d\">\n",
              "  <button class=\"colab-df-quickchart\" onclick=\"quickchart('df-d42adbd2-f279-4606-8b2f-372afdf9940d')\"\n",
              "            title=\"Suggest charts.\"\n",
              "            style=\"display:none;\">\n",
              "\n",
              "<svg xmlns=\"http://www.w3.org/2000/svg\" height=\"24px\"viewBox=\"0 0 24 24\"\n",
              "     width=\"24px\">\n",
              "    <g>\n",
              "        <path d=\"M19 3H5c-1.1 0-2 .9-2 2v14c0 1.1.9 2 2 2h14c1.1 0 2-.9 2-2V5c0-1.1-.9-2-2-2zM9 17H7v-7h2v7zm4 0h-2V7h2v10zm4 0h-2v-4h2v4z\"/>\n",
              "    </g>\n",
              "</svg>\n",
              "  </button>\n",
              "\n",
              "<style>\n",
              "  .colab-df-quickchart {\n",
              "      --bg-color: #E8F0FE;\n",
              "      --fill-color: #1967D2;\n",
              "      --hover-bg-color: #E2EBFA;\n",
              "      --hover-fill-color: #174EA6;\n",
              "      --disabled-fill-color: #AAA;\n",
              "      --disabled-bg-color: #DDD;\n",
              "  }\n",
              "\n",
              "  [theme=dark] .colab-df-quickchart {\n",
              "      --bg-color: #3B4455;\n",
              "      --fill-color: #D2E3FC;\n",
              "      --hover-bg-color: #434B5C;\n",
              "      --hover-fill-color: #FFFFFF;\n",
              "      --disabled-bg-color: #3B4455;\n",
              "      --disabled-fill-color: #666;\n",
              "  }\n",
              "\n",
              "  .colab-df-quickchart {\n",
              "    background-color: var(--bg-color);\n",
              "    border: none;\n",
              "    border-radius: 50%;\n",
              "    cursor: pointer;\n",
              "    display: none;\n",
              "    fill: var(--fill-color);\n",
              "    height: 32px;\n",
              "    padding: 0;\n",
              "    width: 32px;\n",
              "  }\n",
              "\n",
              "  .colab-df-quickchart:hover {\n",
              "    background-color: var(--hover-bg-color);\n",
              "    box-shadow: 0 1px 2px rgba(60, 64, 67, 0.3), 0 1px 3px 1px rgba(60, 64, 67, 0.15);\n",
              "    fill: var(--button-hover-fill-color);\n",
              "  }\n",
              "\n",
              "  .colab-df-quickchart-complete:disabled,\n",
              "  .colab-df-quickchart-complete:disabled:hover {\n",
              "    background-color: var(--disabled-bg-color);\n",
              "    fill: var(--disabled-fill-color);\n",
              "    box-shadow: none;\n",
              "  }\n",
              "\n",
              "  .colab-df-spinner {\n",
              "    border: 2px solid var(--fill-color);\n",
              "    border-color: transparent;\n",
              "    border-bottom-color: var(--fill-color);\n",
              "    animation:\n",
              "      spin 1s steps(1) infinite;\n",
              "  }\n",
              "\n",
              "  @keyframes spin {\n",
              "    0% {\n",
              "      border-color: transparent;\n",
              "      border-bottom-color: var(--fill-color);\n",
              "      border-left-color: var(--fill-color);\n",
              "    }\n",
              "    20% {\n",
              "      border-color: transparent;\n",
              "      border-left-color: var(--fill-color);\n",
              "      border-top-color: var(--fill-color);\n",
              "    }\n",
              "    30% {\n",
              "      border-color: transparent;\n",
              "      border-left-color: var(--fill-color);\n",
              "      border-top-color: var(--fill-color);\n",
              "      border-right-color: var(--fill-color);\n",
              "    }\n",
              "    40% {\n",
              "      border-color: transparent;\n",
              "      border-right-color: var(--fill-color);\n",
              "      border-top-color: var(--fill-color);\n",
              "    }\n",
              "    60% {\n",
              "      border-color: transparent;\n",
              "      border-right-color: var(--fill-color);\n",
              "    }\n",
              "    80% {\n",
              "      border-color: transparent;\n",
              "      border-right-color: var(--fill-color);\n",
              "      border-bottom-color: var(--fill-color);\n",
              "    }\n",
              "    90% {\n",
              "      border-color: transparent;\n",
              "      border-bottom-color: var(--fill-color);\n",
              "    }\n",
              "  }\n",
              "</style>\n",
              "\n",
              "  <script>\n",
              "    async function quickchart(key) {\n",
              "      const quickchartButtonEl =\n",
              "        document.querySelector('#' + key + ' button');\n",
              "      quickchartButtonEl.disabled = true;  // To prevent multiple clicks.\n",
              "      quickchartButtonEl.classList.add('colab-df-spinner');\n",
              "      try {\n",
              "        const charts = await google.colab.kernel.invokeFunction(\n",
              "            'suggestCharts', [key], {});\n",
              "      } catch (error) {\n",
              "        console.error('Error during call to suggestCharts:', error);\n",
              "      }\n",
              "      quickchartButtonEl.classList.remove('colab-df-spinner');\n",
              "      quickchartButtonEl.classList.add('colab-df-quickchart-complete');\n",
              "    }\n",
              "    (() => {\n",
              "      let quickchartButtonEl =\n",
              "        document.querySelector('#df-d42adbd2-f279-4606-8b2f-372afdf9940d button');\n",
              "      quickchartButtonEl.style.display =\n",
              "        google.colab.kernel.accessAllowed ? 'block' : 'none';\n",
              "    })();\n",
              "  </script>\n",
              "</div>\n",
              "    </div>\n",
              "  </div>\n"
            ]
          },
          "metadata": {},
          "execution_count": 42
        }
      ],
      "source": [
        "film_deaths[film_deaths['Body_Count']>200].sort_values('Body_Count', ascending=False)"
      ]
    },
    {
      "cell_type": "markdown",
      "metadata": {
        "id": "POEY8BSBHfgC"
      },
      "source": [
        "We now see that the 'Lord of the Rings' is a large outlier with a very large number of kills. We can try and determine how much of an outlier by histograming the data."
      ]
    },
    {
      "cell_type": "markdown",
      "metadata": {
        "id": "PMnKIDNHHfgC"
      },
      "source": [
        "### Plotting the Data"
      ]
    },
    {
      "cell_type": "code",
      "execution_count": 43,
      "metadata": {
        "colab": {
          "base_uri": "https://localhost:8080/",
          "height": 470
        },
        "id": "GES_eZwaHfgC",
        "outputId": "d9602fc2-2f80-4f33-812c-b17a12f58508"
      },
      "outputs": [
        {
          "output_type": "execute_result",
          "data": {
            "text/plain": [
              "Text(0.5, 1.0, 'Histogram of Film Kill Count')"
            ]
          },
          "metadata": {},
          "execution_count": 43
        },
        {
          "output_type": "display_data",
          "data": {
            "text/plain": [
              "<Figure size 640x480 with 1 Axes>"
            ],
            "image/png": "[encoded data removed]"
          },
          "metadata": {}
        }
      ],
      "source": [
        "film_deaths['Body_Count'].hist(bins=20) # histogram the data with 20 bins.\n",
        "plt.title('Histogram of Film Kill Count')"
      ]
    },
    {
      "cell_type": "markdown",
      "metadata": {
        "id": "IrTjEW5HHfgD"
      },
      "source": [
        "### Question 2\n",
        "Read on the internet about the following python libraries: `numpy`, `matplotlib`, `scipy` and `pandas`. What functionality does each provide in python. What is the `pylab` library and how does it relate to the other libraries?"
      ]
    },
    {
      "cell_type": "markdown",
      "metadata": {
        "id": "MUyGU9spHfgD"
      },
      "source": [
        "#### Question 2 Answer\n",
        "\n",
        "Write your answer to the question in this box."
      ]
    },
    {
      "cell_type": "markdown",
      "metadata": {
        "id": "JtqejcIgHfgD"
      },
      "source": [
        "We could try and remove these outliers, but another approach would be to plot the logarithm of the counts against the year."
      ]
    },
    {
      "cell_type": "code",
      "execution_count": 44,
      "metadata": {
        "colab": {
          "base_uri": "https://localhost:8080/",
          "height": 490
        },
        "id": "S9qg3oJ2HfgD",
        "outputId": "0f55793b-a025-44a8-9aab-656394086751"
      },
      "outputs": [
        {
          "output_type": "execute_result",
          "data": {
            "text/plain": [
              "Text(0.5, 0, 'year')"
            ]
          },
          "metadata": {},
          "execution_count": 44
        },
        {
          "output_type": "display_data",
          "data": {
            "text/plain": [
              "<Figure size 640x480 with 1 Axes>"
            ],
            "image/png": "[encoded data removed]"
          },
          "metadata": {}
        }
      ],
      "source": [
        "plt.plot(film_deaths['Year'], film_deaths['Body_Count'], 'rx')\n",
        "ax = plt.gca() # obtain a handle to the current axis\n",
        "ax.set_yscale('log') # use a logarithmic death scale\n",
        "# give the plot some titles and labels\n",
        "plt.title('Film Deaths against Year')\n",
        "plt.ylabel('deaths')\n",
        "plt.xlabel('year')"
      ]
    },
    {
      "cell_type": "markdown",
      "metadata": {
        "id": "BfSX2IjFHfgD"
      },
      "source": [
        "Note a few things. We are interacting with our data. In particular, we are replotting the data according to what we have learned so far. We are using the programming language as a *scripting* language to give the computer one command or another, and then the next command we enter is dependent on the result of the previous. This is a very different paradigm to classical software engineering. In classical software engineering we normally write many lines of code (entire object classes or functions) before compiling the code and running it. Our approach is more similar to the approach we take whilst debugging. Historically, researchers interacted with data using a *console*. A command line window which allowed command entry. The notebook format we are using is slightly different. Each of the code entry boxes acts like a separate console window. We can move up and down the notebook and run each part in a different order. The *state* of the program is always as we left it after running the previous part.  "
      ]
    },
    {
      "cell_type": "markdown",
      "metadata": {
        "id": "GVPW4YOOHfgD"
      },
      "source": [
        "### Question 3\n",
        "\n",
        "What is jupyter and why was it invented? Give some examples of functionality it gives over standard python. What is the jupyter project? Name two languages involved in the Jupyter project other than python."
      ]
    },
    {
      "cell_type": "markdown",
      "metadata": {
        "id": "g2sMF76aHfgE"
      },
      "source": [
        "#### Question 3 Answer\n",
        "\n",
        "Project Jupyter is a non-profit, open-source project, born out of the IPython Project in 2014 as it evolved to support interactive data science and scientific computing across all programming languages.\n",
        "\n",
        "Java, R\n",
        "\n"
      ]
    },
    {
      "cell_type": "markdown",
      "metadata": {
        "id": "H3_gf33EHfgE"
      },
      "source": [
        "## Probabilities\n",
        "\n",
        "We are now going to do some simple review of probabilities and use this review to explore some aspects of our data.\n",
        "\n",
        "A probability distribution expresses uncertainty about the outcome of an event. We often encode this uncertainty in a variable. So if we are considering the outcome of an event, $Y$, to be a coin toss, then we might consider $Y=1$ to be heads and $Y=0$ to be tails. We represent the probability of a given outcome with the notation:\n",
        "$$\n",
        "P(Y=1) = 0.5\n",
        "$$\n",
        "The first rule of probability is that the probability must normalize. The sum of the probability of all events must equal 1. So if the probability of heads ($Y=1$) is 0.5, then the probability of tails (the only other possible outcome) is given by\n",
        "$$\n",
        "P(Y=0) = 1-P(Y=1) = 0.5\n",
        "$$\n",
        "\n",
        "Probabilities are often defined as the limit of the ratio between the number of positive outcomes (e.g. *heads*) given the number of trials. If the number of positive outcomes for event $y$ is denoted by $n_y$ and the number of trials is denoted by $N$ then this gives the ratio\n",
        "$$\n",
        "P(Y=y) = \\lim_{N\\rightarrow \\infty}\\frac{n_y}{N}.\n",
        "$$\n",
        "In practice we never get to observe an event infinite times, so rather than considering this we often use the following estimate\n",
        "$$\n",
        "P(Y=y) \\approx \\frac{n_y}{N}.\n",
        "$$\n",
        "Let's use this rule to compute the approximate probability that a film from the movie body count website has over 40 deaths."
      ]
    },
    {
      "cell_type": "code",
      "execution_count": 55,
      "metadata": {
        "colab": {
          "base_uri": "https://localhost:8080/"
        },
        "id": "rhhfsUCKHfgE",
        "outputId": "2a0008c3-069e-4e3d-a180-af7e241bf6b8"
      },
      "outputs": [
        {
          "output_type": "stream",
          "name": "stdout",
          "text": [
            "159\n",
            "421\n",
            "Probability of deaths being greater than 40 is: 0.37767220902612825\n"
          ]
        }
      ],
      "source": [
        "deaths = (film_deaths.Body_Count>40).sum()  # number of positive outcomes (in sum True counts as 1, False counts as 0)\n",
        "print(deaths)\n",
        "total_films = film_deaths.Body_Count.count()\n",
        "print(total_films)\n",
        "prob_death = deaths/total_films\n",
        "print(\"Probability of deaths being greater than 40 is:\", prob_death)"
      ]
    },
    {
      "cell_type": "markdown",
      "metadata": {
        "id": "S4akoL_hHfgE"
      },
      "source": [
        "### Question 4\n",
        "\n",
        "We now have an estimate of the probability a film has greater than 40 deaths. The estimate seems quite high. What could be wrong with the estimate? Do you think any film you go to in the cinema has this probability of having greater than 40 deaths?"
      ]
    },
    {
      "cell_type": "markdown",
      "metadata": {
        "id": "1AXDcrcmHfgO"
      },
      "source": [
        "#### Question 4 Answer\n",
        "\n"
      ]
    },
    {
      "cell_type": "markdown",
      "source": [
        "The movie types focus on action and crime, which contains a large number of deaths. Therefore, the deaths rate is estimated higher.\n",
        "\n",
        "NO"
      ],
      "metadata": {
        "id": "aP14nFArky3O"
      }
    },
    {
      "cell_type": "markdown",
      "metadata": {
        "id": "lOQ10Z8hHfgP"
      },
      "source": [
        "# Conditioning\n",
        "\n",
        "When predicting whether a coin turns up head or tails, we might think that this event is *independent* of the year or time of day. If we include an observation such as time, then in a probability this is known as *conditioning*. We use this notation, $P(Y=y|T=t)$, to condition the outcome on a second variable (in this case time). Or, often, for a shorthand we use $P(y|t)$ to represent this distribution (the $Y=$ and $T=$ being implicit). Because we don't believe a coin toss depends on time then we might write that\n",
        "$$\n",
        "P(y|t) = P(y).\n",
        "$$\n",
        "However, we might believe that the number of deaths is dependent on the year. For this we can try estimating $P(Y>40 | T=2000)$ and compare the result, for example to $P(Y>40|2002)$ using our empirical estimate of the probability."
      ]
    },
    {
      "cell_type": "code",
      "execution_count": 46,
      "metadata": {
        "colab": {
          "base_uri": "https://localhost:8080/"
        },
        "id": "krLm_so0HfgP",
        "outputId": "c52152f6-125b-4729-d4db-f6a83ba5be4f"
      },
      "outputs": [
        {
          "output_type": "stream",
          "name": "stdout",
          "text": [
            "Probability of deaths being greather than 40 in year 2000 is: 0.16666666666666666\n",
            "Probability of deaths being greather than 40 in year 2002 is: 0.4074074074074074\n"
          ]
        }
      ],
      "source": [
        "for year in [2000, 2002]:\n",
        "    deaths = (film_deaths.Body_Count[film_deaths.Year==year]>40).sum()\n",
        "    total_films = (film_deaths.Year==year).sum()\n",
        "\n",
        "    prob_death = float(deaths)/float(total_films)\n",
        "    print(\"Probability of deaths being greather than 40 in year\", year, \"is:\", prob_death)"
      ]
    },
    {
      "cell_type": "markdown",
      "metadata": {
        "id": "4Kta_xJtHfgQ"
      },
      "source": [
        "### Question 5\n",
        "\n",
        "Compute the probability for the number of deaths being over 40 for each year we have in our `film_deaths` data frame. Store the result in a `numpy` array and plot the probabilities against the years using the `plot` command from `matplotlib`. Do you think the estimate we have created of $P(y|t)$ is a good estimate? Write your code and your written answers in the box below.  "
      ]
    },
    {
      "cell_type": "code",
      "execution_count": 69,
      "metadata": {
        "colab": {
          "base_uri": "https://localhost:8080/",
          "height": 490
        },
        "id": "wg_6B6VGHfgQ",
        "outputId": "dde2eb63-8a75-4456-e94e-622f5d8422fd"
      },
      "outputs": [
        {
          "output_type": "execute_result",
          "data": {
            "text/plain": [
              "Text(0.5, 0, 'year')"
            ]
          },
          "metadata": {},
          "execution_count": 69
        },
        {
          "output_type": "display_data",
          "data": {
            "text/plain": [
              "<Figure size 640x480 with 1 Axes>"
            ],
            "image/png": "[encoded data removed]"
          },
          "metadata": {}
        }
      ],
      "source": [
        "yearSum = film_deaths['Year']\n",
        "\n",
        "import numpy\n",
        "a=numpy.zeros((len(yearSum)))\n",
        "i = 0\n",
        "for year in yearSum:\n",
        "    deaths = (film_deaths.Body_Count[film_deaths.Year==year]>40).sum()\n",
        "    total_films = (film_deaths.Year==year).sum()\n",
        "    prob_death = float(deaths)/float(total_films)\n",
        "    a[i] = prob_death\n",
        "    i += 1\n",
        "import pylab as plt # this imports the plotting library in python\n",
        "plt.plot(film_deaths['Year'], a, 'rx')\n",
        "ax = plt.gca() # obtain a handle to the current axis\n",
        "ax.set_yscale('log') # use a logarithmic death scale\n",
        "# give the plot some titles and labels\n",
        "plt.title('Film Deaths against Year')\n",
        "plt.ylabel('deaths probability')\n",
        "plt.xlabel('year')"
      ]
    },
    {
      "cell_type": "markdown",
      "metadata": {
        "id": "w0KdBOUsHfgQ"
      },
      "source": [
        "#### Question 5 Answer Text\n",
        "\n",
        "Write your answer to the question in this box."
      ]
    },
    {
      "cell_type": "markdown",
      "metadata": {
        "id": "zpGGJg57HfgR"
      },
      "source": [
        "#### Notes for Question 5\n",
        "\n",
        "Make sure the plot is included in *this* notebook file (the `IPython` magic command `%matplotlib inline` we ran above will do that for you, it only needs to be run once per file)."
      ]
    },
    {
      "cell_type": "markdown",
      "metadata": {
        "id": "48sPxYYlHfgR"
      },
      "source": [
        "### Rules of Probability\n",
        "\n",
        "We've now introduced conditioning and independence to the notion of probability and computed some conditional probabilities on a practical example. The scatter plot of deaths vs year that we created above can be seen as a *joint* probability distribution. We represent a joint probability using the notation $P(Y=y, T=t)$ or $P(y, t)$ for short. Computing a joint probability is equivalent to answering the simultaneous questions, what's the probability that the number of deaths was over 40 and the year was 2002? Or any other question that may occur to us. Again we can easily use pandas to ask such questions.\n"
      ]
    },
    {
      "cell_type": "code",
      "execution_count": null,
      "metadata": {
        "id": "2_5gFXfuHfgR"
      },
      "outputs": [],
      "source": [
        "year = 2000\n",
        "deaths = (film_deaths.Body_Count[film_deaths.Year==year]>40).sum()\n",
        "total_films = film_deaths.Body_Count.count() # this is total number of films\n",
        "prob_death = deaths/total_films\n",
        "print(\"Probability of deaths being greather than 40 and year being\", year, \"is:\", prob_death)"
      ]
    },
    {
      "cell_type": "markdown",
      "metadata": {
        "id": "jB5OmaDPHfgS"
      },
      "source": [
        "### The Product Rule\n",
        "\n",
        "This number is the joint probability, $P(Y, T)$ which is much *smaller* than the conditional probability. The number can never be bigger than the conditional probability because it is computed using the *product rule*.\n",
        "$$\n",
        "p(Y=y, T=t) = p(Y=y|T=t)p(T=t)\n",
        "$$\n",
        "and $$p(T=t)$$ is a probability distribution, which is equal or less than 1, ensuring the joint distribution is typically smaller than the conditional distribution.\n",
        "\n",
        "The product rule is a *fundamental* rule of probability, and you must remember it! It gives the relationship between the two questions: 1) What's the probability that a film was made in 2002 and has over 40 deaths? and 2) What's the probability that a film has over 40 deaths given that it was made in 2002?\n",
        "\n",
        "In our shorter notation we can write the product rule as\n",
        "$$\n",
        "p(y, t) = p(y|t)p(t)\n",
        "$$\n",
        "We can see the relation working in practice for our data above by computing the different values for $t=2000$."
      ]
    },
    {
      "cell_type": "code",
      "execution_count": 91,
      "metadata": {
        "colab": {
          "base_uri": "https://localhost:8080/"
        },
        "id": "FeVE8v2SHfgS",
        "outputId": "0e637848-9890-4c07-91da-ec2b509e9d15"
      },
      "outputs": [
        {
          "output_type": "stream",
          "name": "stdout",
          "text": [
            "11\n",
            "421\n"
          ]
        }
      ],
      "source": [
        "p_t = float((film_deaths.Year==2002).sum())/float(film_deaths.Body_Count.count())\n",
        "print((film_deaths.Body_Count[film_deaths.Year==2002]>40).sum())\n",
        "print(film_deaths.Body_Count.count())\n",
        "# p_y_given_t = float((film_deaths.Body_Count[film_deaths.Year==2002]>40).sum())/float((film_deaths.Year==2002).sum())\n",
        "# p_y_and_t = float((film_deaths.Body_Count[film_deaths.Year==2002]>40).sum())/float(film_deaths.Body_Count.count())\n",
        "\n",
        "# print(\"P(t) is\", p_t)\n",
        "# print(\"P(y|t) is\", p_y_given_t)\n",
        "# print(\"P(y,t) is\", p_y_and_t)"
      ]
    },
    {
      "cell_type": "markdown",
      "metadata": {
        "id": "hglUkXIpHfgS"
      },
      "source": [
        "### The Sum Rule\n",
        "\n",
        "The other *fundamental rule* of probability is the *sum rule* this tells us how to get a *marginal* distribution from the joint distribution. Simply put it says that we need to sum across the value we'd like to remove.\n",
        "$$\n",
        "P(Y=y) = \\sum_{t} P(Y=y, T=t)\n",
        "$$\n",
        "Or in our shortened notation\n",
        "$$\n",
        "P(y) = \\sum_{t} P(y, t)\n",
        "$$"
      ]
    },
    {
      "cell_type": "markdown",
      "metadata": {
        "id": "V9cZPfruHfgS"
      },
      "source": [
        "### Question 6\n",
        "\n",
        "Write code that computes $P(y)$ by adding $P(y, t)$ for all values of $t$."
      ]
    },
    {
      "cell_type": "code",
      "execution_count": 97,
      "metadata": {
        "colab": {
          "base_uri": "https://localhost:8080/"
        },
        "id": "LF8rHfYMHfgS",
        "outputId": "16c8352b-baaa-4a8c-a484-844756ca6627"
      },
      "outputs": [
        {
          "output_type": "stream",
          "name": "stdout",
          "text": [
            "0.37767220902612836\n"
          ]
        }
      ],
      "source": [
        "# Question 6 Answer Code\n",
        "\n",
        "p_y = 0\n",
        "yearSum = film_deaths['Year']\n",
        "for year in list(set(yearSum)):\n",
        "  p_y_and_t = float((film_deaths.Body_Count[film_deaths.Year==year]>40).sum())/float(film_deaths.Body_Count.count())\n",
        "  p_y += p_y_and_t\n",
        "print(p_y)"
      ]
    },
    {
      "cell_type": "markdown",
      "metadata": {
        "id": "_bcHag0SHfgT"
      },
      "source": [
        "## Bayes' Rule\n",
        "\n",
        "Bayes rule is a very simple rule, it's hardly worth the name of a rule at all. It follows directly from the product rule of probability. Because $P(y, t) = P(y|t)P(t)$ and by symmetry $P(y,t)=P(t,y)=P(t|y)P(y)$ then by equating these two equations and dividing through by $P(y)$ we have\n",
        "$$\n",
        "P(t|y) = \\frac{P(y|t)P(t)}{P(y)},\n",
        "$$\n",
        "which is known as Bayes' rule (or Bayes's rule, it depends how you choose to pronounce it). It's not difficult to derive, and its importance is more to do with the semantic operation that it enables. Each of these probability distributions represents the answer to a question we have about the world. Bayes rule (via the product rule) tells us how to *invert* the probability."
      ]
    },
    {
      "cell_type": "markdown",
      "metadata": {
        "id": "0-BREj7pHfgT"
      },
      "source": [
        "## Probabilities for Extracting Information from Data\n",
        "\n",
        "What use is all this probability in data science? Let's think about how we might use the probabilities to do some decision making. Let's load up a little more information about the movies."
      ]
    },
    {
      "cell_type": "code",
      "execution_count": null,
      "metadata": {
        "id": "Cmkovhz3HfgT"
      },
      "outputs": [],
      "source": [
        "movies = pd.read_csv('./R-vs-Python-master/Deadliest movies scrape/code/film-death-counts-Python.csv')\n",
        "movies.columns"
      ]
    },
    {
      "cell_type": "markdown",
      "metadata": {
        "id": "ALFMRGyjHfgT"
      },
      "source": [
        "### Question 7\n",
        "\n",
        "Now we see we have several additional features including the quality rating (`IMDB_Rating`). Let's assume we want to predict the rating given the other information in the data base. How would we go about doing it?\n",
        "\n",
        "Using what you've learnt about joint, conditional and marginal probabilities, as well as the sum and product rule, how would you formulate the question you want to answer in terms of probabilities? Should you be using a joint or a conditional distribution? If it's conditional, what should the distribution be over, and what should it be conditioned on?"
      ]
    },
    {
      "cell_type": "markdown",
      "metadata": {
        "id": "AV6PkDeJHfgT"
      },
      "source": [
        "#### Question 7 Answer Text\n",
        "\n"
      ]
    },
    {
      "cell_type": "markdown",
      "source": [
        "use conditional distribution. The movie with more higher rating in other conditons will gain a higher final rating order.\n",
        "I would concern a final result and give them different priority if necessary. And each value of each conditions will be calculate seperately and gain final result within different priority."
      ],
      "metadata": {
        "id": "0Srm-0WE3VjC"
      }
    }
  ],
  "metadata": {
    "anaconda-cloud": {},
    "kernelspec": {
      "display_name": "Python 3 (ipykernel)",
      "language": "python",
      "name": "python3"
    },
    "language_info": {
      "codemirror_mode": {
        "name": "ipython",
        "version": 3
      },
      "file_extension": ".py",
      "mimetype": "text/x-python",
      "name": "python",
      "nbconvert_exporter": "python",
      "pygments_lexer": "ipython3",
      "version": "3.10.9"
    },
    "colab": {
      "provenance": [],
      "include_colab_link": true
    }
  },
  "nbformat": 4,
  "nbformat_minor": 0
}